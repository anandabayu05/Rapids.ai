{
 "cells": [
  {
   "cell_type": "markdown",
   "id": "d9936207",
   "metadata": {},
   "source": [
    "<center>\n",
    "    <img src=\"https://drive.google.com/uc?export=view&id=1lPaftHzWoaunUKuZZhqbzgYBMZ3Uw5e-\" width=\"1400\"/>\n",
    "</center>\n"
   ]
  },
  {
   "cell_type": "markdown",
   "id": "31fd8be4",
   "metadata": {},
   "source": [
    "#### Set hide warning tensorflow:"
   ]
  },
  {
   "cell_type": "code",
   "execution_count": 1,
   "id": "19a48a0e",
   "metadata": {},
   "outputs": [],
   "source": [
    "import os\n",
    "os.environ['TF_CPP_MIN_LOG_LEVEL'] = '3'\n",
    "import tensorflow as tf"
   ]
  },
  {
   "cell_type": "markdown",
   "id": "9ed847e5",
   "metadata": {},
   "source": [
    "In details:\n",
    "\n",
    "* 0 = all messages are logged (default behavior)\n",
    "* 1 = INFO messages are not printed\n",
    "* 2 = INFO and WARNING messages are not printed\n",
    "* 3 = INFO, WARNING, and ERROR messages are not printed"
   ]
  },
  {
   "cell_type": "markdown",
   "id": "352807a9",
   "metadata": {},
   "source": [
    "---\n",
    "#### Cek Hardware:"
   ]
  },
  {
   "cell_type": "markdown",
   "id": "1f47f81e",
   "metadata": {},
   "source": [
    " check if TensorFlow is running on GPU by listing all the physical devices as:"
   ]
  },
  {
   "cell_type": "code",
   "execution_count": 2,
   "id": "fbd31600",
   "metadata": {},
   "outputs": [
    {
     "data": {
      "text/plain": [
       "[PhysicalDevice(name='/physical_device:CPU:0', device_type='CPU'),\n",
       " PhysicalDevice(name='/physical_device:GPU:0', device_type='GPU')]"
      ]
     },
     "execution_count": 2,
     "metadata": {},
     "output_type": "execute_result"
    }
   ],
   "source": [
    "import tensorflow\n",
    "tensorflow.config.experimental.list_physical_devices()"
   ]
  },
  {
   "cell_type": "code",
   "execution_count": 3,
   "id": "99e3b394",
   "metadata": {},
   "outputs": [
    {
     "data": {
      "text/plain": [
       "True"
      ]
     },
     "execution_count": 3,
     "metadata": {},
     "output_type": "execute_result"
    }
   ],
   "source": [
    "tensorflow.test.is_built_with_cuda()"
   ]
  },
  {
   "cell_type": "markdown",
   "id": "f4dedff5",
   "metadata": {},
   "source": [
    "---\n",
    "\n",
    "## TEST ONE – Training Digit Classifier\n",
    "\n",
    "For the 1st test, we will create a digit classifier for the famous cifar10 dataset consisting of  32*32 color images splattered into 50,000 train and 10,000 test images along with ten classes. So lets’ get started."
   ]
  },
  {
   "cell_type": "markdown",
   "id": "76c4cc65",
   "metadata": {},
   "source": [
    "**1. Import –  necessary modules and the dataset.**"
   ]
  },
  {
   "cell_type": "code",
   "execution_count": 4,
   "id": "b08c5cf1",
   "metadata": {},
   "outputs": [],
   "source": [
    "import tensorflow as tf\n",
    "from tensorflow import keras\n",
    "import numpy as np\n",
    "import matplotlib.pyplot as plt"
   ]
  },
  {
   "cell_type": "code",
   "execution_count": 5,
   "id": "ee69f5d5",
   "metadata": {},
   "outputs": [],
   "source": [
    "(X_train, y_train), (X_test, y_test) = keras.datasets.cifar10.load_data()"
   ]
  },
  {
   "cell_type": "markdown",
   "id": "66239d75",
   "metadata": {},
   "source": [
    "**2. Perform  Eda – check data and labels shape:**"
   ]
  },
  {
   "cell_type": "code",
   "execution_count": 6,
   "id": "9a16f34f",
   "metadata": {},
   "outputs": [
    {
     "data": {
      "text/plain": [
       "((50000, 32, 32, 3), (10000, 32, 32, 3))"
      ]
     },
     "execution_count": 6,
     "metadata": {},
     "output_type": "execute_result"
    }
   ],
   "source": [
    "# checking images shape\n",
    "X_train.shape, X_test.shape"
   ]
  },
  {
   "cell_type": "code",
   "execution_count": 7,
   "id": "b16f7ccf",
   "metadata": {},
   "outputs": [
    {
     "data": {
      "text/plain": [
       "(32, 32, 3)"
      ]
     },
     "execution_count": 7,
     "metadata": {},
     "output_type": "execute_result"
    }
   ],
   "source": [
    "# display single image shape\n",
    "X_train[0].shape"
   ]
  },
  {
   "cell_type": "code",
   "execution_count": 8,
   "id": "da08bc99",
   "metadata": {},
   "outputs": [
    {
     "data": {
      "text/plain": [
       "array([[6],\n",
       "       [9],\n",
       "       [9],\n",
       "       [4],\n",
       "       [1]], dtype=uint8)"
      ]
     },
     "execution_count": 8,
     "metadata": {},
     "output_type": "execute_result"
    }
   ],
   "source": [
    "# checking labls\n",
    "y_train[:5]"
   ]
  },
  {
   "cell_type": "markdown",
   "id": "a466410b",
   "metadata": {},
   "source": [
    "**3. Apply Preprocessing: Scaling images(NumPy array) by 255 and One-Hot Encoding labels to represent all categories as 0, except  1 for the actual label in ‘float32.’**"
   ]
  },
  {
   "cell_type": "code",
   "execution_count": 9,
   "id": "21a549ef",
   "metadata": {},
   "outputs": [],
   "source": [
    "# scaling image values between 0-1\n",
    "X_train_scaled = X_train/255\n",
    "X_test_scaled = X_test/255"
   ]
  },
  {
   "cell_type": "code",
   "execution_count": 10,
   "id": "9febc357",
   "metadata": {},
   "outputs": [],
   "source": [
    "# one hot encoding labels\n",
    "y_train_encoded = keras.utils.to_categorical(y_train, num_classes = 10, dtype = 'float32')\n",
    "y_test_encoded = keras.utils.to_categorical(y_test, num_classes = 10, dtype = 'float32')"
   ]
  },
  {
   "cell_type": "markdown",
   "id": "f8f160a3",
   "metadata": {},
   "source": [
    "**4. Model Building: A fn to build a neural network with architecture as below with compiling included :**"
   ]
  },
  {
   "cell_type": "code",
   "execution_count": 11,
   "id": "8b5cc283",
   "metadata": {},
   "outputs": [],
   "source": [
    "def get_model():\n",
    "    model = keras.Sequential([\n",
    "        keras.layers.Flatten(input_shape=(32,32,3)),\n",
    "        keras.layers.Dense(3000, activation='relu'),\n",
    "        keras.layers.Dense(1000, activation='relu'),\n",
    "        keras.layers.Dense(10, activation='sigmoid')    \n",
    "    ])\n",
    "    model.compile(optimizer='SGD',\n",
    "              loss='categorical_crossentropy',\n",
    "              metrics=['accuracy'])\n",
    "    return model\n"
   ]
  },
  {
   "cell_type": "code",
   "execution_count": 12,
   "id": "fdbbf9a1",
   "metadata": {},
   "outputs": [],
   "source": [
    "# model1.summary()"
   ]
  },
  {
   "cell_type": "code",
   "execution_count": 13,
   "id": "f06e7a2f",
   "metadata": {},
   "outputs": [
    {
     "name": "stdout",
     "output_type": "stream",
     "text": [
      "Model: \"sequential\"\n",
      "_________________________________________________________________\n",
      " Layer (type)                Output Shape              Param #   \n",
      "=================================================================\n",
      " flatten (Flatten)           (None, 3072)              0         \n",
      "                                                                 \n",
      " dense (Dense)               (None, 3000)              9219000   \n",
      "                                                                 \n",
      " dense_1 (Dense)             (None, 1000)              3001000   \n",
      "                                                                 \n",
      " dense_2 (Dense)             (None, 10)                10010     \n",
      "                                                                 \n",
      "=================================================================\n",
      "Total params: 12,230,010\n",
      "Trainable params: 12,230,010\n",
      "Non-trainable params: 0\n",
      "_________________________________________________________________\n"
     ]
    }
   ],
   "source": [
    "model1 = keras.Sequential()\n",
    "\n",
    "model1.add(tf.keras.layers.Flatten(input_shape=(32,32,3)))\n",
    "model1.add(tf.keras.layers.Dense(3000, activation='relu'))\n",
    "model1.add(tf.keras.layers.Dense(1000, activation='relu'))\n",
    "model1.add(tf.keras.layers.Dense(10, activation='sigmoid'))\n",
    "\n",
    "model1.summary()\n",
    "\n"
   ]
  },
  {
   "cell_type": "markdown",
   "id": "feaaf2a3",
   "metadata": {},
   "source": [
    "2 hidden layers having ‘3000 & 1000’ units each followed by softmax layer with ’10 ‘units to output probabilities"
   ]
  },
  {
   "cell_type": "markdown",
   "id": "e5837538",
   "metadata": {},
   "source": [
    "**5. Training model dan mengkalkulasi waktu eksekusi proses menggunakan CPU:**"
   ]
  },
  {
   "cell_type": "code",
   "execution_count": 14,
   "id": "5e5668a5",
   "metadata": {},
   "outputs": [
    {
     "name": "stdout",
     "output_type": "stream",
     "text": [
      "Epoch 1/10\n",
      "1563/1563 [==============================] - 71s 45ms/step - loss: 1.8132 - accuracy: 0.3529\n",
      "Epoch 2/10\n",
      "1563/1563 [==============================] - 66s 42ms/step - loss: 1.6241 - accuracy: 0.4266\n",
      "Epoch 3/10\n",
      "1563/1563 [==============================] - 65s 42ms/step - loss: 1.5426 - accuracy: 0.4550\n",
      "Epoch 4/10\n",
      "1563/1563 [==============================] - 65s 42ms/step - loss: 1.4823 - accuracy: 0.4765\n",
      "Epoch 5/10\n",
      "1563/1563 [==============================] - 66s 42ms/step - loss: 1.4315 - accuracy: 0.4997\n",
      "Epoch 6/10\n",
      "1563/1563 [==============================] - 65s 42ms/step - loss: 1.3907 - accuracy: 0.5120\n",
      "Epoch 7/10\n",
      "1563/1563 [==============================] - 65s 42ms/step - loss: 1.3526 - accuracy: 0.5256\n",
      "Epoch 8/10\n",
      "1563/1563 [==============================] - 65s 42ms/step - loss: 1.3167 - accuracy: 0.5379\n",
      "Epoch 9/10\n",
      "1563/1563 [==============================] - 65s 41ms/step - loss: 1.2837 - accuracy: 0.5499\n",
      "Epoch 10/10\n",
      "1563/1563 [==============================] - 64s 41ms/step - loss: 1.2542 - accuracy: 0.5619\n",
      "Waktu eksekusi CPU: 658.8862855434418 detik\n"
     ]
    }
   ],
   "source": [
    "# %%timeit -n1 -r1\n",
    "import time\n",
    "\n",
    "# CPU\n",
    "with tf.device('/CPU:0'):\n",
    "    start = time.time()\n",
    "    model_cpu = get_model()\n",
    "    model_cpu.fit(X_train_scaled, y_train_encoded, epochs = 10)\n",
    "    end = time.time()\n",
    "\n",
    "print(\"Waktu eksekusi CPU:\", end - start, \"detik\")"
   ]
  },
  {
   "cell_type": "markdown",
   "id": "67ccb075",
   "metadata": {},
   "source": [
    "**6. Training model dan mengkalkulasi waktu eksekusi proses menggunakan GPU A100:**"
   ]
  },
  {
   "cell_type": "code",
   "execution_count": 15,
   "id": "9b5e8998",
   "metadata": {},
   "outputs": [
    {
     "name": "stdout",
     "output_type": "stream",
     "text": [
      "Epoch 1/10\n",
      "1563/1563 [==============================] - 4s 2ms/step - loss: 1.8107 - accuracy: 0.3520\n",
      "Epoch 2/10\n",
      "1563/1563 [==============================] - 4s 2ms/step - loss: 1.6204 - accuracy: 0.4287\n",
      "Epoch 3/10\n",
      "1563/1563 [==============================] - 4s 2ms/step - loss: 1.5405 - accuracy: 0.4555\n",
      "Epoch 4/10\n",
      "1563/1563 [==============================] - 4s 2ms/step - loss: 1.4781 - accuracy: 0.4781\n",
      "Epoch 5/10\n",
      "1563/1563 [==============================] - 4s 3ms/step - loss: 1.4290 - accuracy: 0.4976\n",
      "Epoch 6/10\n",
      "1563/1563 [==============================] - 4s 2ms/step - loss: 1.3858 - accuracy: 0.5122\n",
      "Epoch 7/10\n",
      "1563/1563 [==============================] - 4s 2ms/step - loss: 1.3487 - accuracy: 0.5241\n",
      "Epoch 8/10\n",
      "1563/1563 [==============================] - 4s 2ms/step - loss: 1.3127 - accuracy: 0.5413\n",
      "Epoch 9/10\n",
      "1563/1563 [==============================] - 4s 2ms/step - loss: 1.2791 - accuracy: 0.5520\n",
      "Epoch 10/10\n",
      "1563/1563 [==============================] - 4s 2ms/step - loss: 1.2496 - accuracy: 0.5613\n",
      "Waktu eksekusi GPU: 39.83731770515442 detik\n"
     ]
    }
   ],
   "source": [
    "# %%timeit -n1 -r1\n",
    "\n",
    "# GPU\n",
    "with tf.device('/GPU:0'):\n",
    "    start = time.time()\n",
    "    model_gpu = get_model()\n",
    "    model_gpu.fit(X_train_scaled, y_train_encoded, epochs = 10)\n",
    "    end = time.time()\n",
    "    \n",
    "print(\"Waktu eksekusi GPU:\", end - start, \"detik\")"
   ]
  },
  {
   "cell_type": "markdown",
   "id": "ebdca9e1",
   "metadata": {},
   "source": [
    "---\n",
    "#### Perbandingan performa waktu eksekusi Pandas & CuDF"
   ]
  },
  {
   "cell_type": "code",
   "execution_count": 16,
   "id": "1838823e",
   "metadata": {},
   "outputs": [
    {
     "name": "stdout",
     "output_type": "stream",
     "text": [
      "Waktu eksekusi cudf: 0.0022559165954589844 detik\n",
      "Waktu eksekusi pandas: 0.15577983856201172 detik\n"
     ]
    }
   ],
   "source": [
    "import cudf\n",
    "import pandas as pd\n",
    "import time\n",
    "import tensorflow as tf\n",
    "\n",
    "# Generate sample data\n",
    "data_size = 20**6\n",
    "df_cudf = cudf.DataFrame({'A': range(data_size), 'B': range(data_size)})\n",
    "df_pandas = pd.DataFrame({'A': range(data_size), 'B': range(data_size)})\n",
    "\n",
    "with tf.device('/GPU:0'):\n",
    "    # Comparison using cudf\n",
    "    start_timec = time.time()\n",
    "    df_cudf['C'] = df_cudf['A'] + df_cudf['B']\n",
    "    end_timec = time.time()\n",
    "\n",
    "    # Comparison using pandas\n",
    "    start_timep = time.time()\n",
    "    df_pandas['C'] = df_pandas['A'] + df_pandas['B']\n",
    "    end_timep = time.time()\n",
    "\n",
    "# Print the time taken by cudf and pandas\n",
    "print(\"Waktu eksekusi cudf:\", end_timec - start_timec, \"detik\")\n",
    "print(\"Waktu eksekusi pandas:\", end_timep - start_timep, \"detik\")"
   ]
  },
  {
   "cell_type": "markdown",
   "id": "04cba855",
   "metadata": {},
   "source": [
    "---\n",
    "#### Perbandingan performa waktu eksekusi Sklearn & CuML"
   ]
  },
  {
   "cell_type": "code",
   "execution_count": 17,
   "id": "1ea6fdc7",
   "metadata": {},
   "outputs": [],
   "source": [
    "import time\n",
    "import numpy as np\n",
    "import cuml\n",
    "from sklearn.cluster import KMeans\n",
    "import warnings \n",
    "warnings.filterwarnings('ignore')"
   ]
  },
  {
   "cell_type": "code",
   "execution_count": 18,
   "id": "84d7261f",
   "metadata": {},
   "outputs": [],
   "source": [
    "# Generate random data\n",
    "np.random.seed(42)\n",
    "data = np.random.rand(10000, 10)"
   ]
  },
  {
   "cell_type": "code",
   "execution_count": 19,
   "id": "7379c3d2",
   "metadata": {},
   "outputs": [],
   "source": [
    "# Run K-means using cuml\n",
    "start_time = time.time()\n",
    "cuml_kmeans = cuml.KMeans(n_clusters=10)\n",
    "cuml_kmeans.fit(data)\n",
    "cuml_time = time.time() - start_time"
   ]
  },
  {
   "cell_type": "code",
   "execution_count": 20,
   "id": "7daf375b",
   "metadata": {},
   "outputs": [],
   "source": [
    "# Run K-means using scikit-learn\n",
    "start_time = time.time()\n",
    "sklearn_kmeans = KMeans(n_clusters=10)\n",
    "sklearn_kmeans.fit(data)\n",
    "sklearn_time = time.time() - start_time"
   ]
  },
  {
   "cell_type": "code",
   "execution_count": 21,
   "id": "087b5d0d",
   "metadata": {},
   "outputs": [
    {
     "name": "stdout",
     "output_type": "stream",
     "text": [
      "cuML Execution Time: 0.5379829406738281\n",
      "scikit-learn Execution Time: 2.1488585472106934\n"
     ]
    }
   ],
   "source": [
    "# Print the execution time\n",
    "print(\"cuML Execution Time:\", cuml_time)\n",
    "print(\"scikit-learn Execution Time:\", sklearn_time)"
   ]
  },
  {
   "cell_type": "code",
   "execution_count": null,
   "id": "0e643983",
   "metadata": {},
   "outputs": [],
   "source": []
  }
 ],
 "metadata": {
  "kernelspec": {
   "display_name": "Python 3 (ipykernel)",
   "language": "python",
   "name": "python3"
  },
  "language_info": {
   "codemirror_mode": {
    "name": "ipython",
    "version": 3
   },
   "file_extension": ".py",
   "mimetype": "text/x-python",
   "name": "python",
   "nbconvert_exporter": "python",
   "pygments_lexer": "ipython3",
   "version": "3.8.10"
  }
 },
 "nbformat": 4,
 "nbformat_minor": 5
}
