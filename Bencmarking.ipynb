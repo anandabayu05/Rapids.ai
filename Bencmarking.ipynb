{
 "cells": [
  {
   "cell_type": "markdown",
   "id": "48289e9e",
   "metadata": {},
   "source": [
    "#### Set hide warning tensorflow:"
   ]
  },
  {
   "cell_type": "code",
   "execution_count": 1,
   "id": "63630a1f",
   "metadata": {},
   "outputs": [],
   "source": [
    "import os\n",
    "os.environ['TF_CPP_MIN_LOG_LEVEL'] = '3'\n",
    "import tensorflow as tf"
   ]
  },
  {
   "cell_type": "markdown",
   "id": "a848b83f",
   "metadata": {},
   "source": [
    "In details:\n",
    "\n",
    "* 0 = all messages are logged (default behavior)\n",
    "* 1 = INFO messages are not printed\n",
    "* 2 = INFO and WARNING messages are not printed\n",
    "* 3 = INFO, WARNING, and ERROR messages are not printed"
   ]
  },
  {
   "cell_type": "markdown",
   "id": "f4af1178",
   "metadata": {},
   "source": [
    " check if TensorFlow is running on GPU by listing all the physical devices as:"
   ]
  },
  {
   "cell_type": "markdown",
   "id": "b1184b66",
   "metadata": {},
   "source": [
    "---\n",
    "#### Cek Hardware:"
   ]
  },
  {
   "cell_type": "code",
   "execution_count": 2,
   "id": "9732fa33",
   "metadata": {},
   "outputs": [
    {
     "data": {
      "text/plain": [
       "[PhysicalDevice(name='/physical_device:CPU:0', device_type='CPU'),\n",
       " PhysicalDevice(name='/physical_device:GPU:0', device_type='GPU')]"
      ]
     },
     "execution_count": 2,
     "metadata": {},
     "output_type": "execute_result"
    }
   ],
   "source": [
    "import tensorflow\n",
    "tensorflow.config.experimental.list_physical_devices()"
   ]
  },
  {
   "cell_type": "code",
   "execution_count": 3,
   "id": "33976d1e",
   "metadata": {},
   "outputs": [
    {
     "data": {
      "text/plain": [
       "True"
      ]
     },
     "execution_count": 3,
     "metadata": {},
     "output_type": "execute_result"
    }
   ],
   "source": [
    "tensorflow.test.is_built_with_cuda()"
   ]
  },
  {
   "cell_type": "markdown",
   "id": "af8fbbd5",
   "metadata": {},
   "source": [
    "---\n",
    "\n",
    "## TEST ONE – Training Digit Classifier\n",
    "\n",
    "For the 1st test, we will create a digit classifier for the famous cifar10 dataset consisting of  32*32 color images splattered into 50,000 train and 10,000 test images along with ten classes. So lets’ get started."
   ]
  },
  {
   "cell_type": "markdown",
   "id": "db1370f4",
   "metadata": {},
   "source": [
    "**1. Import –  necessary modules and the dataset.**"
   ]
  },
  {
   "cell_type": "code",
   "execution_count": 4,
   "id": "7842e5ab",
   "metadata": {},
   "outputs": [],
   "source": [
    "import tensorflow as tf\n",
    "from tensorflow import keras\n",
    "import numpy as np\n",
    "import matplotlib.pyplot as plt"
   ]
  },
  {
   "cell_type": "code",
   "execution_count": 5,
   "id": "ea62cc36",
   "metadata": {},
   "outputs": [],
   "source": [
    "(X_train, y_train), (X_test, y_test) = keras.datasets.cifar10.load_data()"
   ]
  },
  {
   "cell_type": "markdown",
   "id": "c4a13b67",
   "metadata": {},
   "source": [
    "**2. Perform  Eda – check data and labels shape:**"
   ]
  },
  {
   "cell_type": "code",
   "execution_count": 6,
   "id": "b6418ecb",
   "metadata": {},
   "outputs": [
    {
     "data": {
      "text/plain": [
       "((50000, 32, 32, 3), (10000, 32, 32, 3))"
      ]
     },
     "execution_count": 6,
     "metadata": {},
     "output_type": "execute_result"
    }
   ],
   "source": [
    "# checking images shape\n",
    "X_train.shape, X_test.shape"
   ]
  },
  {
   "cell_type": "code",
   "execution_count": 7,
   "id": "47b9f3d1",
   "metadata": {},
   "outputs": [
    {
     "data": {
      "text/plain": [
       "(32, 32, 3)"
      ]
     },
     "execution_count": 7,
     "metadata": {},
     "output_type": "execute_result"
    }
   ],
   "source": [
    "# display single image shape\n",
    "X_train[0].shape"
   ]
  },
  {
   "cell_type": "code",
   "execution_count": 8,
   "id": "dbe4a5a0",
   "metadata": {},
   "outputs": [
    {
     "data": {
      "text/plain": [
       "array([[6],\n",
       "       [9],\n",
       "       [9],\n",
       "       [4],\n",
       "       [1]], dtype=uint8)"
      ]
     },
     "execution_count": 8,
     "metadata": {},
     "output_type": "execute_result"
    }
   ],
   "source": [
    "# checking labls\n",
    "y_train[:5]"
   ]
  },
  {
   "cell_type": "markdown",
   "id": "c4ced6b2",
   "metadata": {},
   "source": [
    "**3. Apply Preprocessing: Scaling images(NumPy array) by 255 and One-Hot Encoding labels to represent all categories as 0, except  1 for the actual label in ‘float32.’**"
   ]
  },
  {
   "cell_type": "code",
   "execution_count": 9,
   "id": "c1a8910f",
   "metadata": {},
   "outputs": [],
   "source": [
    "# scaling image values between 0-1\n",
    "X_train_scaled = X_train/255\n",
    "X_test_scaled = X_test/255"
   ]
  },
  {
   "cell_type": "code",
   "execution_count": 10,
   "id": "7a352fdd",
   "metadata": {},
   "outputs": [],
   "source": [
    "# one hot encoding labels\n",
    "y_train_encoded = keras.utils.to_categorical(y_train, num_classes = 10, dtype = 'float32')\n",
    "y_test_encoded = keras.utils.to_categorical(y_test, num_classes = 10, dtype = 'float32')"
   ]
  },
  {
   "cell_type": "markdown",
   "id": "9679e1f6",
   "metadata": {},
   "source": [
    "**4. Model Building: A fn to build a neural network with architecture as below with compiling included :**"
   ]
  },
  {
   "cell_type": "code",
   "execution_count": 11,
   "id": "5dea1358",
   "metadata": {},
   "outputs": [],
   "source": [
    "def get_model():\n",
    "    model = keras.Sequential([\n",
    "        keras.layers.Flatten(input_shape=(32,32,3)),\n",
    "        keras.layers.Dense(3000, activation='relu'),\n",
    "        keras.layers.Dense(1000, activation='relu'),\n",
    "        keras.layers.Dense(10, activation='sigmoid')    \n",
    "    ])\n",
    "    model.compile(optimizer='SGD',\n",
    "              loss='categorical_crossentropy',\n",
    "              metrics=['accuracy'])\n",
    "    return model\n"
   ]
  },
  {
   "cell_type": "code",
   "execution_count": 12,
   "id": "e6676deb",
   "metadata": {},
   "outputs": [],
   "source": [
    "# model1.summary()"
   ]
  },
  {
   "cell_type": "code",
   "execution_count": 13,
   "id": "e82bff84",
   "metadata": {},
   "outputs": [
    {
     "name": "stdout",
     "output_type": "stream",
     "text": [
      "Model: \"sequential\"\n",
      "_________________________________________________________________\n",
      " Layer (type)                Output Shape              Param #   \n",
      "=================================================================\n",
      " flatten (Flatten)           (None, 3072)              0         \n",
      "                                                                 \n",
      " dense (Dense)               (None, 3000)              9219000   \n",
      "                                                                 \n",
      " dense_1 (Dense)             (None, 1000)              3001000   \n",
      "                                                                 \n",
      " dense_2 (Dense)             (None, 10)                10010     \n",
      "                                                                 \n",
      "=================================================================\n",
      "Total params: 12,230,010\n",
      "Trainable params: 12,230,010\n",
      "Non-trainable params: 0\n",
      "_________________________________________________________________\n"
     ]
    }
   ],
   "source": [
    "model1 = keras.Sequential()\n",
    "\n",
    "model1.add(tf.keras.layers.Flatten(input_shape=(32,32,3)))\n",
    "model1.add(tf.keras.layers.Dense(3000, activation='relu'))\n",
    "model1.add(tf.keras.layers.Dense(1000, activation='relu'))\n",
    "model1.add(tf.keras.layers.Dense(10, activation='sigmoid'))\n",
    "\n",
    "model1.summary()\n",
    "\n"
   ]
  },
  {
   "cell_type": "markdown",
   "id": "a1d07a7f",
   "metadata": {},
   "source": [
    "2 hidden layers having ‘3000 & 1000’ units each followed by softmax layer with ’10 ‘units to output probabilities"
   ]
  },
  {
   "cell_type": "markdown",
   "id": "5481be22",
   "metadata": {},
   "source": [
    "**5. Training model dan mengkalkulasi waktu eksekusi proses menggunakan CPU:**"
   ]
  },
  {
   "cell_type": "code",
   "execution_count": 14,
   "id": "6af5d3b5",
   "metadata": {},
   "outputs": [
    {
     "name": "stdout",
     "output_type": "stream",
     "text": [
      "Epoch 1/10\n",
      "1563/1563 [==============================] - 35s 22ms/step - loss: 1.8124 - accuracy: 0.3538\n",
      "Epoch 2/10\n",
      "1563/1563 [==============================] - 32s 21ms/step - loss: 1.6217 - accuracy: 0.4283\n",
      "Epoch 3/10\n",
      "1563/1563 [==============================] - 31s 20ms/step - loss: 1.5393 - accuracy: 0.4575\n",
      "Epoch 4/10\n",
      "1563/1563 [==============================] - 32s 20ms/step - loss: 1.4780 - accuracy: 0.4776\n",
      "Epoch 5/10\n",
      "1563/1563 [==============================] - 42s 27ms/step - loss: 1.4297 - accuracy: 0.4987\n",
      "Epoch 6/10\n",
      "1563/1563 [==============================] - 42s 27ms/step - loss: 1.3888 - accuracy: 0.5092\n",
      "Epoch 7/10\n",
      "1563/1563 [==============================] - 43s 27ms/step - loss: 1.3522 - accuracy: 0.5240\n",
      "Epoch 8/10\n",
      "1563/1563 [==============================] - 41s 27ms/step - loss: 1.3168 - accuracy: 0.5374\n",
      "Epoch 9/10\n",
      "1563/1563 [==============================] - 42s 27ms/step - loss: 1.2796 - accuracy: 0.5500\n",
      "Epoch 10/10\n",
      "1563/1563 [==============================] - 42s 27ms/step - loss: 1.2513 - accuracy: 0.5618\n",
      "Waktu eksekusi CPU: 383.0611937046051 detik\n"
     ]
    }
   ],
   "source": [
    "# %%timeit -n1 -r1\n",
    "import time\n",
    "\n",
    "# CPU\n",
    "with tf.device('/CPU:0'):\n",
    "    start = time.time()\n",
    "    model_cpu = get_model()\n",
    "    model_cpu.fit(X_train_scaled, y_train_encoded, epochs = 10)\n",
    "    end = time.time()\n",
    "\n",
    "print(\"Waktu eksekusi CPU:\", end - start, \"detik\")"
   ]
  },
  {
   "cell_type": "markdown",
   "id": "93e7aefe",
   "metadata": {},
   "source": [
    "**6. Training model dan mengkalkulasi waktu eksekusi proses menggunakan GPU A100:**"
   ]
  },
  {
   "cell_type": "code",
   "execution_count": 15,
   "id": "144aa4fb",
   "metadata": {},
   "outputs": [
    {
     "name": "stdout",
     "output_type": "stream",
     "text": [
      "Epoch 1/10\n",
      "1563/1563 [==============================] - 8s 4ms/step - loss: 1.8151 - accuracy: 0.3538\n",
      "Epoch 2/10\n",
      "1563/1563 [==============================] - 7s 4ms/step - loss: 1.6211 - accuracy: 0.4286\n",
      "Epoch 3/10\n",
      "1563/1563 [==============================] - 6s 4ms/step - loss: 1.5399 - accuracy: 0.4582\n",
      "Epoch 4/10\n",
      "1563/1563 [==============================] - 7s 4ms/step - loss: 1.4780 - accuracy: 0.4814\n",
      "Epoch 5/10\n",
      "1563/1563 [==============================] - 7s 4ms/step - loss: 1.4320 - accuracy: 0.4955\n",
      "Epoch 6/10\n",
      "1563/1563 [==============================] - 6s 4ms/step - loss: 1.3884 - accuracy: 0.5118\n",
      "Epoch 7/10\n",
      "1563/1563 [==============================] - 6s 4ms/step - loss: 1.3508 - accuracy: 0.5260\n",
      "Epoch 8/10\n",
      "1563/1563 [==============================] - 6s 4ms/step - loss: 1.3153 - accuracy: 0.5356\n",
      "Epoch 9/10\n",
      "1563/1563 [==============================] - 6s 4ms/step - loss: 1.2836 - accuracy: 0.5481\n",
      "Epoch 10/10\n",
      "1563/1563 [==============================] - 7s 4ms/step - loss: 1.2536 - accuracy: 0.5574\n",
      "Waktu eksekusi GPU: 83.70771980285645 detik\n"
     ]
    }
   ],
   "source": [
    "# %%timeit -n1 -r1\n",
    "\n",
    "# GPU\n",
    "with tf.device('/GPU:0'):\n",
    "    start = time.time()\n",
    "    model_gpu = get_model()\n",
    "    model_gpu.fit(X_train_scaled, y_train_encoded, epochs = 10)\n",
    "    end = time.time()\n",
    "    \n",
    "print(\"Waktu eksekusi GPU:\", end - start, \"detik\")"
   ]
  },
  {
   "cell_type": "markdown",
   "id": "966f27fe",
   "metadata": {},
   "source": [
    "---\n",
    "#### Perbandingan performa waktu eksekusi Pandas & CuDF"
   ]
  },
  {
   "cell_type": "code",
   "execution_count": 2,
   "id": "e38180d8",
   "metadata": {},
   "outputs": [
    {
     "name": "stdout",
     "output_type": "stream",
     "text": [
      "Waktu eksekusi cudf: 0.003392934799194336 detik\n",
      "Waktu eksekusi pandas: 0.1553666591644287 detik\n"
     ]
    }
   ],
   "source": [
    "import cudf\n",
    "import pandas as pd\n",
    "import time\n",
    "import tensorflow as tf\n",
    "\n",
    "# Generate sample data\n",
    "data_size = 20**6\n",
    "df_cudf = cudf.DataFrame({'A': range(data_size), 'B': range(data_size)})\n",
    "df_pandas = pd.DataFrame({'A': range(data_size), 'B': range(data_size)})\n",
    "\n",
    "with tf.device('/GPU:0'):\n",
    "    # Comparison using cudf\n",
    "    start_timec = time.time()\n",
    "    df_cudf['C'] = df_cudf['A'] + df_cudf['B']\n",
    "    end_timec = time.time()\n",
    "\n",
    "    # Comparison using pandas\n",
    "    start_timep = time.time()\n",
    "    df_pandas['C'] = df_pandas['A'] + df_pandas['B']\n",
    "    end_timep = time.time()\n",
    "\n",
    "# Print the time taken by cudf and pandas\n",
    "print(\"Waktu eksekusi cudf:\", end_timec - start_timec, \"detik\")\n",
    "print(\"Waktu eksekusi pandas:\", end_timep - start_timep, \"detik\")"
   ]
  },
  {
   "cell_type": "markdown",
   "id": "8e68e703",
   "metadata": {},
   "source": [
    "---\n",
    "#### Perbandingan performa waktu eksekusi Sklearn & CuML"
   ]
  },
  {
   "cell_type": "code",
   "execution_count": 2,
   "id": "64bdfa20",
   "metadata": {},
   "outputs": [],
   "source": [
    "import time\n",
    "import numpy as np\n",
    "import cuml\n",
    "from sklearn.cluster import KMeans\n",
    "import warnings \n",
    "warnings.filterwarnings('ignore')"
   ]
  },
  {
   "cell_type": "code",
   "execution_count": 3,
   "id": "1851610f",
   "metadata": {},
   "outputs": [],
   "source": [
    "# Generate random data\n",
    "np.random.seed(42)\n",
    "data = np.random.rand(10000, 10)"
   ]
  },
  {
   "cell_type": "code",
   "execution_count": 4,
   "id": "3d50424c",
   "metadata": {},
   "outputs": [],
   "source": [
    "# Run K-means using cuml\n",
    "start_time = time.time()\n",
    "cuml_kmeans = cuml.KMeans(n_clusters=10)\n",
    "cuml_kmeans.fit(data)\n",
    "cuml_time = time.time() - start_time"
   ]
  },
  {
   "cell_type": "code",
   "execution_count": 5,
   "id": "935b86ba",
   "metadata": {},
   "outputs": [],
   "source": [
    "# Run K-means using scikit-learn\n",
    "start_time = time.time()\n",
    "sklearn_kmeans = KMeans(n_clusters=10)\n",
    "sklearn_kmeans.fit(data)\n",
    "sklearn_time = time.time() - start_time"
   ]
  },
  {
   "cell_type": "code",
   "execution_count": 6,
   "id": "f78cb4ed",
   "metadata": {},
   "outputs": [
    {
     "name": "stdout",
     "output_type": "stream",
     "text": [
      "cuML Execution Time: 0.6092026233673096\n",
      "scikit-learn Execution Time: 1.5961670875549316\n"
     ]
    }
   ],
   "source": [
    "# Print the execution time\n",
    "print(\"cuML Execution Time:\", cuml_time)\n",
    "print(\"scikit-learn Execution Time:\", sklearn_time)"
   ]
  }
 ],
 "metadata": {
  "kernelspec": {
   "display_name": "Python 3 (ipykernel)",
   "language": "python",
   "name": "python3"
  },
  "language_info": {
   "codemirror_mode": {
    "name": "ipython",
    "version": 3
   },
   "file_extension": ".py",
   "mimetype": "text/x-python",
   "name": "python",
   "nbconvert_exporter": "python",
   "pygments_lexer": "ipython3",
   "version": "3.8.10"
  }
 },
 "nbformat": 4,
 "nbformat_minor": 5
}
